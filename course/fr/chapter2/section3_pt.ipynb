{
  "cells": [
    {
      "cell_type": "markdown",
      "metadata": {
        "id": "view-in-github",
        "colab_type": "text"
      },
      "source": [
        "<a href=\"https://colab.research.google.com/github/didierr2/hf-learn/blob/main/course/fr/chapter2/section3_pt.ipynb\" target=\"_parent\"><img src=\"https://colab.research.google.com/assets/colab-badge.svg\" alt=\"Open In Colab\"/></a>"
      ]
    },
    {
      "cell_type": "markdown",
      "metadata": {
        "id": "K3erJHVh0aF-"
      },
      "source": [
        "# Modèles (PyTorch)"
      ]
    },
    {
      "cell_type": "markdown",
      "metadata": {
        "id": "sspzQCMB0aGB"
      },
      "source": [
        "Installez la bibliothèque 🤗 *Transformers* pour exécuter ce *notebook*."
      ]
    },
    {
      "cell_type": "code",
      "execution_count": null,
      "metadata": {
        "id": "ASDqoMk20aGC"
      },
      "outputs": [],
      "source": [
        "!pip install transformers[sentencepiece]"
      ]
    },
    {
      "cell_type": "code",
      "execution_count": null,
      "metadata": {
        "id": "wehR7X_O0aGD"
      },
      "outputs": [],
      "source": [
        "from transformers import CamembertConfig, CamembertModel\n",
        "\n",
        "# Construire la configuration\n",
        "config = CamembertConfig()\n",
        "\n",
        "# Construire le modèle à partir de la configuration\n",
        "model = CamembertModel(config)"
      ]
    },
    {
      "cell_type": "code",
      "execution_count": null,
      "metadata": {
        "id": "9Bv_FdYi0aGE"
      },
      "outputs": [],
      "source": [
        "print(config)"
      ]
    },
    {
      "cell_type": "code",
      "execution_count": null,
      "metadata": {
        "id": "MnnrrG1x0aGE"
      },
      "outputs": [],
      "source": [
        "from transformers import CamembertConfig, CamembertModel\n",
        "\n",
        "config = CamembertConfig()\n",
        "model = CamembertModel(config)\n",
        "\n",
        "# Le modèle est initialisé de façon aléatoire !"
      ]
    },
    {
      "cell_type": "code",
      "execution_count": null,
      "metadata": {
        "id": "yT6WK76V0aGF"
      },
      "outputs": [],
      "source": [
        "from transformers import CamembertModel\n",
        "\n",
        "model = CamembertModel.from_pretrained(\"camembert-base\")"
      ]
    },
    {
      "cell_type": "code",
      "execution_count": null,
      "metadata": {
        "id": "kGU1oLD30aGF"
      },
      "outputs": [],
      "source": [
        "model.save_pretrained(\"répertoire_sur_mon_ordinateur\")"
      ]
    },
    {
      "cell_type": "code",
      "execution_count": null,
      "metadata": {
        "id": "WR9HnYet0aGG"
      },
      "outputs": [],
      "source": [
        "sequences = [\"Hello!\", \"Cool.\", \"Nice!\"]"
      ]
    },
    {
      "cell_type": "code",
      "execution_count": null,
      "metadata": {
        "id": "D5fl4vbu0aGG"
      },
      "outputs": [],
      "source": [
        "from transformers import CamembertTokenizer\n",
        "\n",
        "tokenizer = CamembertTokenizer.from_pretrained(\"camembert-base\")\n",
        "encoded_sequences = tokenizer(sequences)\n",
        "encoded_sequences"
      ]
    },
    {
      "cell_type": "code",
      "execution_count": null,
      "metadata": {
        "id": "IksrvqqS0aGH"
      },
      "outputs": [],
      "source": [
        "import torch\n",
        "\n",
        "model_inputs = torch.tensor(encoded_sequences)"
      ]
    },
    {
      "cell_type": "code",
      "execution_count": null,
      "metadata": {
        "id": "LhCQ7hV80aGH"
      },
      "outputs": [],
      "source": [
        "output = model(model_inputs)"
      ]
    },
    {
      "cell_type": "code",
      "execution_count": null,
      "metadata": {
        "id": "HAxtthSZ0aGH"
      },
      "outputs": [],
      "source": [
        "output"
      ]
    }
  ],
  "metadata": {
    "colab": {
      "name": "Modèles (PyTorch)",
      "provenance": [],
      "include_colab_link": true
    },
    "kernelspec": {
      "display_name": "Python 3",
      "language": "python",
      "name": "python3"
    },
    "language_info": {
      "codemirror_mode": {
        "name": "ipython",
        "version": 3
      },
      "file_extension": ".py",
      "mimetype": "text/x-python",
      "name": "python",
      "nbconvert_exporter": "python",
      "pygments_lexer": "ipython3",
      "version": "3.8.5"
    }
  },
  "nbformat": 4,
  "nbformat_minor": 0
}