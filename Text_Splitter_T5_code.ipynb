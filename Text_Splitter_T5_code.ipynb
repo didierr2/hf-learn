{
  "cells": [
    {
      "cell_type": "markdown",
      "metadata": {
        "id": "view-in-github",
        "colab_type": "text"
      },
      "source": [
        "<a href=\"https://colab.research.google.com/github/didierr2/hf-learn/blob/main/Text_Splitter_T5_code.ipynb\" target=\"_parent\"><img src=\"https://colab.research.google.com/assets/colab-badge.svg\" alt=\"Open In Colab\"/></a>"
      ]
    },
    {
      "cell_type": "markdown",
      "metadata": {
        "id": "JdTjYhopR0tG"
      },
      "source": [
        "### Langchain"
      ]
    },
    {
      "cell_type": "markdown",
      "source": [
        "https://www.youtube.com/watch?v=W_yGjKLcViA\n",
        "https://github.com/Coding-Crashkurse/Text-Splitters\n"
      ],
      "metadata": {
        "id": "Xf4vpJASpeNA"
      }
    },
    {
      "cell_type": "code",
      "source": [
        "!pip install semantic-text-splitter langchain_community -q langchain"
      ],
      "metadata": {
        "id": "c6a0JSbWR8r0"
      },
      "execution_count": null,
      "outputs": []
    },
    {
      "cell_type": "code",
      "execution_count": null,
      "metadata": {
        "id": "LtUUpiGfR0tI"
      },
      "outputs": [],
      "source": [
        "from langchain_community.document_loaders import TextLoader\n",
        "from langchain.text_splitter import RecursiveCharacterTextSplitter\n",
        "\n",
        "loader = TextLoader(\"/content/bank_fr.txt\")\n",
        "docs = loader.load()"
      ]
    },
    {
      "cell_type": "code",
      "source": [
        "MIN_TOKENS = 100\n",
        "MAX_TOKENS = 1000"
      ],
      "metadata": {
        "id": "ON31ZOaj1yAK"
      },
      "execution_count": null,
      "outputs": []
    },
    {
      "cell_type": "code",
      "execution_count": null,
      "metadata": {
        "id": "SiJ2HgkER0tK"
      },
      "outputs": [],
      "source": [
        "text_splitter = RecursiveCharacterTextSplitter(\n",
        "    chunk_size=200,\n",
        "    chunk_overlap=0\n",
        ")"
      ]
    },
    {
      "cell_type": "code",
      "execution_count": null,
      "metadata": {
        "id": "jk8a18HbR0tK",
        "colab": {
          "base_uri": "https://localhost:8080/"
        },
        "outputId": "cd9b7fe8-f7cf-465a-94e1-28eaf555d370"
      },
      "outputs": [
        {
          "output_type": "stream",
          "name": "stdout",
          "text": [
            "21\n"
          ]
        }
      ],
      "source": [
        "docs = text_splitter.split_documents(docs)\n",
        "print(len(docs))"
      ]
    },
    {
      "cell_type": "code",
      "execution_count": null,
      "metadata": {
        "id": "P7jgPkeNR0tK"
      },
      "outputs": [],
      "source": [
        "for i, doc in enumerate(docs):\n",
        "    print(f\"CHUNK {i+1}: \", doc)"
      ]
    },
    {
      "cell_type": "markdown",
      "metadata": {
        "id": "6wu5rssrR0tK"
      },
      "source": [
        "### Semantic text splitter"
      ]
    },
    {
      "cell_type": "code",
      "execution_count": null,
      "metadata": {
        "id": "BPeJlrjwR0tL"
      },
      "outputs": [],
      "source": [
        "with open(\"/content/bank_fr.txt\", \"r\", encoding=\"utf-8\") as file:\n",
        "    content = file.read()"
      ]
    },
    {
      "cell_type": "code",
      "execution_count": null,
      "metadata": {
        "id": "q3EMSaQqR0tL"
      },
      "outputs": [],
      "source": [
        "from semantic_text_splitter import CharacterTextSplitter\n",
        "\n",
        "max_characters = 200\n",
        "splitter = CharacterTextSplitter(trim_chunks=False)\n",
        "chunks_no_model_basic = splitter.chunks(content, max_characters)\n",
        "chunks_no_model = splitter.chunks(content, chunk_capacity=(MIN_TOKENS, MAX_TOKENS))"
      ]
    },
    {
      "cell_type": "code",
      "source": [
        "len(chunks_no_model_basic)"
      ],
      "metadata": {
        "colab": {
          "base_uri": "https://localhost:8080/"
        },
        "id": "hO6WmEuP3H2K",
        "outputId": "22aea8d1-d564-4a66-f2e0-b56b37d73a21"
      },
      "execution_count": null,
      "outputs": [
        {
          "output_type": "execute_result",
          "data": {
            "text/plain": [
              "23"
            ]
          },
          "metadata": {},
          "execution_count": 7
        }
      ]
    },
    {
      "cell_type": "code",
      "execution_count": null,
      "metadata": {
        "id": "AUeuNFG3R0tL"
      },
      "outputs": [],
      "source": [
        "for i, chunk in enumerate(chunks_no_model):\n",
        "    print(f\"CHUNK {i+1}: \", chunk)"
      ]
    },
    {
      "cell_type": "code",
      "execution_count": null,
      "metadata": {
        "id": "2jgyxrd6R0tL"
      },
      "outputs": [],
      "source": [
        "from semantic_text_splitter import HuggingFaceTextSplitter\n",
        "from tokenizers import Tokenizer\n",
        "\n",
        "max_tokens = 200\n",
        "tokenizer = Tokenizer.from_pretrained(\"bert-base-multilingual-cased\")\n",
        "#tokenizer = Tokenizer.from_pretrained(\"jpohhhh/embeddings_from_msmarco-MiniLM-L-6-v3\")\n",
        "splitter = HuggingFaceTextSplitter(tokenizer, trim_chunks=False)"
      ]
    },
    {
      "cell_type": "markdown",
      "source": [],
      "metadata": {
        "id": "wvcYZHWFKr04"
      }
    },
    {
      "cell_type": "code",
      "execution_count": null,
      "metadata": {
        "id": "zFprp7RmR0tL"
      },
      "outputs": [],
      "source": [
        "chunks = splitter.chunks(content, max_tokens)"
      ]
    },
    {
      "cell_type": "code",
      "execution_count": null,
      "metadata": {
        "id": "cumMecaER0tL"
      },
      "outputs": [],
      "source": [
        "for i, chunk in enumerate(chunks):\n",
        "    print(f\"CHUNK {i+1}: \", chunk)"
      ]
    },
    {
      "cell_type": "code",
      "execution_count": null,
      "metadata": {
        "id": "-8OFsY6WR0tM"
      },
      "outputs": [],
      "source": [
        "chunks_with_model = splitter.chunks(content, chunk_capacity=(MIN_TOKENS, MAX_TOKENS))"
      ]
    },
    {
      "cell_type": "code",
      "source": [
        "len(chunks_with_model)"
      ],
      "metadata": {
        "colab": {
          "base_uri": "https://localhost:8080/"
        },
        "id": "SMUHljUL3SOw",
        "outputId": "f5cb5965-2ff0-443f-f974-22927cffe44f"
      },
      "execution_count": null,
      "outputs": [
        {
          "output_type": "execute_result",
          "data": {
            "text/plain": [
              "6"
            ]
          },
          "metadata": {},
          "execution_count": 15
        }
      ]
    },
    {
      "cell_type": "code",
      "execution_count": null,
      "metadata": {
        "id": "MNKb2c0CR0tM"
      },
      "outputs": [],
      "source": [
        "for i, chunk in enumerate(chunks_with_model):\n",
        "    print(f\"CHUNK {i+1}: \", chunk)"
      ]
    },
    {
      "cell_type": "code",
      "source": [
        "from semantic_text_splitter import HuggingFaceTextSplitter\n",
        "from tokenizers import Tokenizer\n",
        "\n",
        "max_tokens = 400\n",
        "tokenizer = Tokenizer.from_pretrained(\"nomic-ai/nomic-embed-text-v1-unsupervised\")\n",
        "splitter = HuggingFaceTextSplitter(tokenizer, trim_chunks=False)"
      ],
      "metadata": {
        "id": "3D_ukqrkweXu"
      },
      "execution_count": null,
      "outputs": []
    },
    {
      "cell_type": "code",
      "source": [
        "chunks_model_nomic = splitter.chunks(content, chunk_capacity=(MIN_TOKENS, MAX_TOKENS))"
      ],
      "metadata": {
        "id": "aUJjrT6rwYGK"
      },
      "execution_count": null,
      "outputs": []
    },
    {
      "cell_type": "code",
      "source": [
        "len(chunks_model_nomic)"
      ],
      "metadata": {
        "colab": {
          "base_uri": "https://localhost:8080/"
        },
        "id": "FEkHOT1y3ZNH",
        "outputId": "a714956c-5546-4867-ead1-a84d5a6b9291"
      },
      "execution_count": null,
      "outputs": [
        {
          "output_type": "execute_result",
          "data": {
            "text/plain": [
              "7"
            ]
          },
          "metadata": {},
          "execution_count": 16
        }
      ]
    },
    {
      "cell_type": "code",
      "source": [
        "for i, chunk in enumerate(chunks_model_nomic):\n",
        "    print(f\"CHUNK {i+1}: \", chunk)"
      ],
      "metadata": {
        "id": "x24X9jZ01DFT"
      },
      "execution_count": null,
      "outputs": []
    },
    {
      "cell_type": "code",
      "source": [
        "!pip install sentence-transformers\n",
        "!pip install einops"
      ],
      "metadata": {
        "id": "XHe5VKGil5jH"
      },
      "execution_count": null,
      "outputs": []
    },
    {
      "cell_type": "markdown",
      "metadata": {
        "id": "qFIv6LM3R0tM"
      },
      "source": [
        "### How good are the embeddings based on the sematic-text-splitter?"
      ]
    },
    {
      "cell_type": "code",
      "source": [
        "from sentence_transformers import SentenceTransformer\n",
        "embeddings = SentenceTransformer(\"nomic-ai/nomic-embed-text-v1-unsupervised\", trust_remote_code=True)"
      ],
      "metadata": {
        "colab": {
          "base_uri": "https://localhost:8080/"
        },
        "id": "p5ZCXu1Hotg2",
        "outputId": "6bc8b072-3341-4768-f5ea-be8eaf90726d"
      },
      "execution_count": null,
      "outputs": [
        {
          "output_type": "stream",
          "name": "stderr",
          "text": [
            "WARNING:sentence_transformers.SentenceTransformer:You try to use a model that was created with version 2.4.0.dev0, however, your version is 2.4.0. This might cause unexpected behavior or errors. In that case, try to update to the latest version.\n",
            "\n",
            "\n",
            "\n",
            "WARNING:transformers_modules.nomic-ai.nomic-embed-text-v1-unsupervised.62fe27d25832db69e9002f0ba71f9b3c2e7bad63.modeling_hf_nomic_bert:<All keys matched successfully>\n"
          ]
        }
      ]
    },
    {
      "cell_type": "code",
      "execution_count": null,
      "metadata": {
        "id": "WViYmQSPR0tM"
      },
      "outputs": [],
      "source": [
        "embeddings_no_model_basic = [ embeddings.encode(chunk) for chunk in chunks_no_model_basic]\n",
        "embeddings_no_model = [ embeddings.encode(chunk) for chunk in chunks_no_model]\n",
        "embeddings_with_model = [ embeddings.encode(chunk) for chunk in chunks_with_model]\n",
        "embeddings_model_nomic = [ embeddings.encode(chunk) for chunk in chunks_model_nomic]\n",
        "#question = embeddings.encode(\"Quelle est l'histoire et l'évolution de la Banque d'Elarian depuis sa fondation ?\")"
      ]
    },
    {
      "cell_type": "code",
      "source": [
        "question = embeddings.encode(\"Quelles sont les caractéristiques spéciales du restaurant Sapore di Mare et son plat signature ?\")"
      ],
      "metadata": {
        "id": "-EzukVNTt3Dt"
      },
      "execution_count": null,
      "outputs": []
    },
    {
      "cell_type": "code",
      "execution_count": null,
      "metadata": {
        "id": "AgVl7NigR0tM"
      },
      "outputs": [],
      "source": [
        "from sklearn.metrics.pairwise import cosine_similarity\n",
        "\n",
        "cos_sim_no_model_basic = [cosine_similarity([question], [emb])[0][0] for emb in embeddings_no_model_basic]\n",
        "cos_sim_no_model = [cosine_similarity([question], [emb])[0][0] for emb in embeddings_no_model]\n",
        "cos_sim_with_model = [cosine_similarity([question], [emb])[0][0] for emb in embeddings_with_model]\n",
        "cos_sim_model_nomic = [cosine_similarity([question], [emb])[0][0] for emb in embeddings_model_nomic]"
      ]
    },
    {
      "cell_type": "code",
      "execution_count": null,
      "metadata": {
        "id": "qKtn0_wER0tM",
        "colab": {
          "base_uri": "https://localhost:8080/",
          "height": 541
        },
        "outputId": "2052df81-0198-48f3-d725-00a63833f855"
      },
      "outputs": [
        {
          "output_type": "display_data",
          "data": {
            "text/plain": [
              "<Figure size 1200x600 with 4 Axes>"
            ],
            "image/png": "[encoded data removed]"
          },
          "metadata": {}
        }
      ],
      "source": [
        "import matplotlib.pyplot as plt\n",
        "\n",
        "\n",
        "plt.figure(figsize=(12, 6))\n",
        "\n",
        "plt.subplot(1, 4, 1)\n",
        "plt.bar(range(len(cos_sim_no_model_basic)), cos_sim_no_model_basic)\n",
        "plt.title('Spit Static')\n",
        "plt.xlabel('Vector Index')\n",
        "plt.ylabel('Cosine Similarity')\n",
        "plt.ylim(0, 1)\n",
        "\n",
        "plt.subplot(1, 4, 2)\n",
        "plt.bar(range(len(cos_sim_no_model)), cos_sim_no_model)\n",
        "plt.title('Split Static avec Min/Max')\n",
        "plt.xlabel('Vector Index')\n",
        "plt.ylabel('Cosine Similarity')\n",
        "plt.ylim(0, 1)\n",
        "\n",
        "plt.subplot(1, 4, 3)\n",
        "plt.bar(range(len(cos_sim_with_model)), cos_sim_with_model)\n",
        "plt.title('Split Sémantique Bert')\n",
        "plt.xlabel('Vector Index')\n",
        "plt.ylabel('Cosine Similarity')\n",
        "plt.ylim(0, 1)\n",
        "\n",
        "plt.subplot(1, 4, 4)\n",
        "plt.bar(range(len(cos_sim_model_nomic)), cos_sim_model_nomic)\n",
        "plt.title('Split Sémantique Nomic')\n",
        "plt.xlabel('Vector Index')\n",
        "plt.ylabel('Cosine Similarity')\n",
        "plt.ylim(0, 1)\n",
        "\n",
        "\n",
        "plt.tight_layout()\n",
        "plt.savefig(\"image.png\")\n",
        "plt.show()"
      ]
    },
    {
      "cell_type": "code",
      "source": [],
      "metadata": {
        "colab": {
          "base_uri": "https://localhost:8080/",
          "height": 35
        },
        "id": "brC1AHnV6A6I",
        "outputId": "64dc6051-1eab-488a-8bd6-d1d108085c69"
      },
      "execution_count": null,
      "outputs": [
        {
          "output_type": "display_data",
          "data": {
            "text/plain": [
              "<Figure size 640x480 with 0 Axes>"
            ]
          },
          "metadata": {}
        }
      ]
    }
  ],
  "metadata": {
    "kernelspec": {
      "display_name": ".venv",
      "language": "python",
      "name": "python3"
    },
    "language_info": {
      "codemirror_mode": {
        "name": "ipython",
        "version": 3
      },
      "file_extension": ".py",
      "mimetype": "text/x-python",
      "name": "python",
      "nbconvert_exporter": "python",
      "pygments_lexer": "ipython3",
      "version": "3.11.0"
    },
    "colab": {
      "provenance": [],
      "include_colab_link": true
    }
  },
  "nbformat": 4,
  "nbformat_minor": 0
}